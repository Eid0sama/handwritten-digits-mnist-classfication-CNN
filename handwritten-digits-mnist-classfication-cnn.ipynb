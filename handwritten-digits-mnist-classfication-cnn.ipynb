{
 "cells": [
  {
   "cell_type": "code",
   "execution_count": 1,
   "id": "d5f11370",
   "metadata": {
    "_cell_guid": "b1076dfc-b9ad-4769-8c92-a6c4dae69d19",
    "_uuid": "8f2839f25d086af736a60e9eeb907d3b93b6e0e5",
    "execution": {
     "iopub.execute_input": "2023-10-27T19:24:10.289642Z",
     "iopub.status.busy": "2023-10-27T19:24:10.289227Z",
     "iopub.status.idle": "2023-10-27T19:24:18.124871Z",
     "shell.execute_reply": "2023-10-27T19:24:18.123999Z"
    },
    "papermill": {
     "duration": 7.843569,
     "end_time": "2023-10-27T19:24:18.127145",
     "exception": false,
     "start_time": "2023-10-27T19:24:10.283576",
     "status": "completed"
    },
    "tags": []
   },
   "outputs": [
    {
     "name": "stderr",
     "output_type": "stream",
     "text": [
      "/opt/conda/lib/python3.10/site-packages/scipy/__init__.py:146: UserWarning: A NumPy version >=1.16.5 and <1.23.0 is required for this version of SciPy (detected version 1.23.5\n",
      "  warnings.warn(f\"A NumPy version >={np_minversion} and <{np_maxversion}\"\n"
     ]
    }
   ],
   "source": [
    "import tensorflow as tf\n",
    "import numpy as np\n",
    "import matplotlib.pyplot as plt\n",
    "from IPython.display import Image\n",
    "from tensorflow.keras.models import Sequential\n",
    "from tensorflow.keras.layers import Dense, Dropout, Activation, Flatten, Conv2D, MaxPooling2D\n",
    "from tensorflow.keras.utils import to_categorical"
   ]
  },
  {
   "cell_type": "code",
   "execution_count": 2,
   "id": "73f1effb",
   "metadata": {
    "execution": {
     "iopub.execute_input": "2023-10-27T19:24:18.136392Z",
     "iopub.status.busy": "2023-10-27T19:24:18.135818Z",
     "iopub.status.idle": "2023-10-27T19:24:20.024229Z",
     "shell.execute_reply": "2023-10-27T19:24:20.023433Z"
    },
    "papermill": {
     "duration": 1.895497,
     "end_time": "2023-10-27T19:24:20.026706",
     "exception": false,
     "start_time": "2023-10-27T19:24:18.131209",
     "status": "completed"
    },
    "tags": []
   },
   "outputs": [
    {
     "name": "stdout",
     "output_type": "stream",
     "text": [
      "Downloading data from https://storage.googleapis.com/tensorflow/tf-keras-datasets/mnist.npz\n",
      "11490434/11490434 [==============================] - 1s 0us/step\n"
     ]
    }
   ],
   "source": [
    "mnist_data = tf.keras.datasets.mnist\n",
    "(train_x, train_y),(test_x, test_y) = mnist_data.load_data()"
   ]
  },
  {
   "cell_type": "code",
   "execution_count": 3,
   "id": "7233a841",
   "metadata": {
    "execution": {
     "iopub.execute_input": "2023-10-27T19:24:20.039536Z",
     "iopub.status.busy": "2023-10-27T19:24:20.039157Z",
     "iopub.status.idle": "2023-10-27T19:24:20.321535Z",
     "shell.execute_reply": "2023-10-27T19:24:20.320602Z"
    },
    "papermill": {
     "duration": 0.291285,
     "end_time": "2023-10-27T19:24:20.323635",
     "exception": false,
     "start_time": "2023-10-27T19:24:20.032350",
     "status": "completed"
    },
    "tags": []
   },
   "outputs": [
    {
     "data": {
      "text/plain": [
       "<matplotlib.image.AxesImage at 0x7eb2a6cba2c0>"
      ]
     },
     "execution_count": 3,
     "metadata": {},
     "output_type": "execute_result"
    },
    {
     "data": {
      "image/png": "[encoded data removed]",
      "text/plain": [
       "<Figure size 640x480 with 1 Axes>"
      ]
     },
     "metadata": {},
     "output_type": "display_data"
    }
   ],
   "source": [
    "plt.imshow(train_x[101])"
   ]
  },
  {
   "cell_type": "code",
   "execution_count": 4,
   "id": "ed432915",
   "metadata": {
    "execution": {
     "iopub.execute_input": "2023-10-27T19:24:20.336771Z",
     "iopub.status.busy": "2023-10-27T19:24:20.336470Z",
     "iopub.status.idle": "2023-10-27T19:24:21.097814Z",
     "shell.execute_reply": "2023-10-27T19:24:21.096941Z"
    },
    "papermill": {
     "duration": 0.770376,
     "end_time": "2023-10-27T19:24:21.099890",
     "exception": false,
     "start_time": "2023-10-27T19:24:20.329514",
     "status": "completed"
    },
    "tags": []
   },
   "outputs": [
    {
     "data": {
      "text/plain": [
       "<matplotlib.image.AxesImage at 0x7eb1f0bf5300>"
      ]
     },
     "execution_count": 4,
     "metadata": {},
     "output_type": "execute_result"
    },
    {
     "data": {
      "image/png": "[encoded data removed]",
      "text/plain": [
       "<Figure size 640x480 with 1 Axes>"
      ]
     },
     "metadata": {},
     "output_type": "display_data"
    }
   ],
   "source": [
    "train_x = tf.keras.utils.normalize(train_x, axis=1)\n",
    "test_x = tf.keras.utils.normalize(test_x, axis=1)\n",
    "plt.imshow(train_x[101])"
   ]
  },
  {
   "cell_type": "code",
   "execution_count": 5,
   "id": "9a3770a7",
   "metadata": {
    "execution": {
     "iopub.execute_input": "2023-10-27T19:24:21.114173Z",
     "iopub.status.busy": "2023-10-27T19:24:21.113433Z",
     "iopub.status.idle": "2023-10-27T19:24:21.118087Z",
     "shell.execute_reply": "2023-10-27T19:24:21.117251Z"
    },
    "papermill": {
     "duration": 0.013756,
     "end_time": "2023-10-27T19:24:21.119894",
     "exception": false,
     "start_time": "2023-10-27T19:24:21.106138",
     "status": "completed"
    },
    "tags": []
   },
   "outputs": [],
   "source": [
    "train_x = train_x.reshape(train_x.shape[0] , 28 ,28 ,1)\n",
    "test_x = test_x.reshape(test_x.shape[0] , 28 ,28 ,1)"
   ]
  },
  {
   "cell_type": "code",
   "execution_count": 6,
   "id": "5443042d",
   "metadata": {
    "execution": {
     "iopub.execute_input": "2023-10-27T19:24:21.134110Z",
     "iopub.status.busy": "2023-10-27T19:24:21.133333Z",
     "iopub.status.idle": "2023-10-27T19:24:24.083911Z",
     "shell.execute_reply": "2023-10-27T19:24:24.082706Z"
    },
    "papermill": {
     "duration": 2.969269,
     "end_time": "2023-10-27T19:24:24.095301",
     "exception": false,
     "start_time": "2023-10-27T19:24:21.126032",
     "status": "completed"
    },
    "tags": []
   },
   "outputs": [
    {
     "name": "stdout",
     "output_type": "stream",
     "text": [
      "Model: \"sequential\"\n",
      "_________________________________________________________________\n",
      " Layer (type)                Output Shape              Param #   \n",
      "=================================================================\n",
      " conv2d (Conv2D)             (None, 26, 26, 64)        640       \n",
      "                                                                 \n",
      " activation (Activation)     (None, 26, 26, 64)        0         \n",
      "                                                                 \n",
      " max_pooling2d (MaxPooling2D  (None, 13, 13, 64)       0         \n",
      " )                                                               \n",
      "                                                                 \n",
      " conv2d_1 (Conv2D)           (None, 11, 11, 64)        36928     \n",
      "                                                                 \n",
      " activation_1 (Activation)   (None, 11, 11, 64)        0         \n",
      "                                                                 \n",
      " max_pooling2d_1 (MaxPooling  (None, 5, 5, 64)         0         \n",
      " 2D)                                                             \n",
      "                                                                 \n",
      " conv2d_2 (Conv2D)           (None, 3, 3, 64)          36928     \n",
      "                                                                 \n",
      " activation_2 (Activation)   (None, 3, 3, 64)          0         \n",
      "                                                                 \n",
      " max_pooling2d_2 (MaxPooling  (None, 1, 1, 64)         0         \n",
      " 2D)                                                             \n",
      "                                                                 \n",
      " flatten (Flatten)           (None, 64)                0         \n",
      "                                                                 \n",
      " dense (Dense)               (None, 10)                650       \n",
      "                                                                 \n",
      " activation_3 (Activation)   (None, 10)                0         \n",
      "                                                                 \n",
      "=================================================================\n",
      "Total params: 75,146\n",
      "Trainable params: 75,146\n",
      "Non-trainable params: 0\n",
      "_________________________________________________________________\n"
     ]
    }
   ],
   "source": [
    "model = Sequential()\n",
    "\n",
    "\n",
    "model.add(Conv2D(64 , (3,3) , input_shape = train_x.shape[1:]))\n",
    "model.add(Activation(\"relu\"))\n",
    "model.add(MaxPooling2D(pool_size = (2,2)))\n",
    "\n",
    "model.add(Conv2D(64 , (3,3) , input_shape = train_x.shape[1:]))\n",
    "model.add(Activation(\"relu\"))\n",
    "model.add(MaxPooling2D(pool_size = (2,2)))\n",
    "\n",
    "model.add(Conv2D(64 , (3,3) , input_shape = train_x.shape[1:]))\n",
    "model.add(Activation(\"relu\"))\n",
    "model.add(MaxPooling2D(pool_size = (2,2)))\n",
    "\n",
    "model.add(Flatten())\n",
    "model.add(Dense(10))\n",
    "model.add(Activation(\"softmax\"))\n",
    "\n",
    "model.compile(optimizer = \"adam\" , loss = \"categorical_crossentropy\" , metrics = [\"accuracy\"])\n",
    "model.summary()\n"
   ]
  },
  {
   "cell_type": "code",
   "execution_count": 7,
   "id": "7f74d373",
   "metadata": {
    "execution": {
     "iopub.execute_input": "2023-10-27T19:24:24.114961Z",
     "iopub.status.busy": "2023-10-27T19:24:24.114628Z",
     "iopub.status.idle": "2023-10-27T19:24:24.121993Z",
     "shell.execute_reply": "2023-10-27T19:24:24.121251Z"
    },
    "papermill": {
     "duration": 0.019571,
     "end_time": "2023-10-27T19:24:24.123916",
     "exception": false,
     "start_time": "2023-10-27T19:24:24.104345",
     "status": "completed"
    },
    "tags": []
   },
   "outputs": [],
   "source": [
    "train_y = to_categorical(train_y)\n",
    "test_y = to_categorical(test_y)"
   ]
  },
  {
   "cell_type": "code",
   "execution_count": 8,
   "id": "2a20fca5",
   "metadata": {
    "execution": {
     "iopub.execute_input": "2023-10-27T19:24:24.143169Z",
     "iopub.status.busy": "2023-10-27T19:24:24.142594Z",
     "iopub.status.idle": "2023-10-27T19:25:40.713161Z",
     "shell.execute_reply": "2023-10-27T19:25:40.712210Z"
    },
    "papermill": {
     "duration": 76.582288,
     "end_time": "2023-10-27T19:25:40.715256",
     "exception": false,
     "start_time": "2023-10-27T19:24:24.132968",
     "status": "completed"
    },
    "tags": []
   },
   "outputs": [
    {
     "name": "stdout",
     "output_type": "stream",
     "text": [
      "Epoch 1/10\n",
      "1875/1875 [==============================] - 15s 4ms/step - loss: 0.2377 - accuracy: 0.9277 - val_loss: 0.1315 - val_accuracy: 0.9603\n",
      "Epoch 2/10\n",
      "1875/1875 [==============================] - 7s 4ms/step - loss: 0.0813 - accuracy: 0.9756 - val_loss: 0.0714 - val_accuracy: 0.9795\n",
      "Epoch 3/10\n",
      "1875/1875 [==============================] - 7s 4ms/step - loss: 0.0604 - accuracy: 0.9812 - val_loss: 0.0576 - val_accuracy: 0.9833\n",
      "Epoch 4/10\n",
      "1875/1875 [==============================] - 7s 4ms/step - loss: 0.0477 - accuracy: 0.9852 - val_loss: 0.0591 - val_accuracy: 0.9844\n",
      "Epoch 5/10\n",
      "1875/1875 [==============================] - 7s 4ms/step - loss: 0.0380 - accuracy: 0.9885 - val_loss: 0.0518 - val_accuracy: 0.9861\n",
      "Epoch 6/10\n",
      "1875/1875 [==============================] - 7s 4ms/step - loss: 0.0299 - accuracy: 0.9904 - val_loss: 0.0535 - val_accuracy: 0.9840\n",
      "Epoch 7/10\n",
      "1875/1875 [==============================] - 7s 4ms/step - loss: 0.0253 - accuracy: 0.9918 - val_loss: 0.0498 - val_accuracy: 0.9862\n",
      "Epoch 8/10\n",
      "1875/1875 [==============================] - 7s 4ms/step - loss: 0.0201 - accuracy: 0.9934 - val_loss: 0.0597 - val_accuracy: 0.9849\n",
      "Epoch 9/10\n",
      "1875/1875 [==============================] - 7s 4ms/step - loss: 0.0171 - accuracy: 0.9943 - val_loss: 0.0485 - val_accuracy: 0.9890\n",
      "Epoch 10/10\n",
      "1875/1875 [==============================] - 7s 4ms/step - loss: 0.0138 - accuracy: 0.9952 - val_loss: 0.0563 - val_accuracy: 0.9874\n"
     ]
    }
   ],
   "source": [
    "history = model.fit(train_x , train_y, epochs = 10 , validation_data = (test_x,test_y))"
   ]
  },
  {
   "cell_type": "code",
   "execution_count": 9,
   "id": "331bf618",
   "metadata": {
    "execution": {
     "iopub.execute_input": "2023-10-27T19:25:40.962082Z",
     "iopub.status.busy": "2023-10-27T19:25:40.961209Z",
     "iopub.status.idle": "2023-10-27T19:25:42.642701Z",
     "shell.execute_reply": "2023-10-27T19:25:42.641701Z"
    },
    "papermill": {
     "duration": 1.830251,
     "end_time": "2023-10-27T19:25:42.645045",
     "exception": false,
     "start_time": "2023-10-27T19:25:40.814794",
     "status": "completed"
    },
    "tags": []
   },
   "outputs": [
    {
     "name": "stdout",
     "output_type": "stream",
     "text": [
      "313/313 [==============================] - 1s 2ms/step - loss: 0.0563 - accuracy: 0.9874\n",
      "313/313 [==============================] - 1s 2ms/step\n"
     ]
    }
   ],
   "source": [
    "test_loss, test_accuracy = model.evaluate(test_x, test_y)\n",
    "\n",
    "# Making predictions using the trained model on the test data (test_x)\n",
    "predictions = model.predict(test_x)"
   ]
  },
  {
   "cell_type": "code",
   "execution_count": 10,
   "id": "ceefb0c4",
   "metadata": {
    "execution": {
     "iopub.execute_input": "2023-10-27T19:25:42.849168Z",
     "iopub.status.busy": "2023-10-27T19:25:42.848556Z",
     "iopub.status.idle": "2023-10-27T19:25:42.853532Z",
     "shell.execute_reply": "2023-10-27T19:25:42.852631Z"
    },
    "papermill": {
     "duration": 0.108628,
     "end_time": "2023-10-27T19:25:42.855567",
     "exception": false,
     "start_time": "2023-10-27T19:25:42.746939",
     "status": "completed"
    },
    "tags": []
   },
   "outputs": [
    {
     "name": "stdout",
     "output_type": "stream",
     "text": [
      "Test loss on 10000 test sample  0.05633861571550369\n",
      "Validation Accuracy on 10000 test sample  0.9873999953269958\n"
     ]
    }
   ],
   "source": [
    "print(\"Test loss on 10000 test sample \", test_loss)\n",
    "print(\"Validation Accuracy on 10000 test sample \", test_accuracy)"
   ]
  },
  {
   "cell_type": "code",
   "execution_count": null,
   "id": "90503cf8",
   "metadata": {
    "papermill": {
     "duration": 0.101107,
     "end_time": "2023-10-27T19:25:43.057945",
     "exception": false,
     "start_time": "2023-10-27T19:25:42.956838",
     "status": "completed"
    },
    "tags": []
   },
   "outputs": [],
   "source": []
  }
 ],
 "metadata": {
  "kernelspec": {
   "display_name": "Python 3",
   "language": "python",
   "name": "python3"
  },
  "language_info": {
   "codemirror_mode": {
    "name": "ipython",
    "version": 3
   },
   "file_extension": ".py",
   "mimetype": "text/x-python",
   "name": "python",
   "nbconvert_exporter": "python",
   "pygments_lexer": "ipython3",
   "version": "3.10.12"
  },
  "papermill": {
   "default_parameters": {},
   "duration": 99.410504,
   "end_time": "2023-10-27T19:25:46.475693",
   "environment_variables": {},
   "exception": null,
   "input_path": "__notebook__.ipynb",
   "output_path": "__notebook__.ipynb",
   "parameters": {},
   "start_time": "2023-10-27T19:24:07.065189",
   "version": "2.4.0"
  }
 },
 "nbformat": 4,
 "nbformat_minor": 5
}
